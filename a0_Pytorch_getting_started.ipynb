{
 "cells": [
  {
   "cell_type": "markdown",
   "metadata": {},
   "source": [
    "# Intro \n",
    "\n",
    "```\n",
    "# run anaconda prompt as admin\n",
    "\n",
    "# Using conda create a new environment \n",
    "# newenv can be whatever name you like \n",
    "\n",
    "    conda create --name newenv  #  \n",
    "\n",
    "\n",
    "# activate the new environment\n",
    "    conda activate newenv\n",
    "\n",
    "# Now go to https://pytorch.org/get-started/locally/\n",
    "# select your system config \n",
    "# copy the provided command \n",
    "# my example \n",
    "    conda install pytorch torchvision torchaudio cudatoolkit=11.3 -c pytorch\n",
    "    \n",
    "# cross your fingers\n",
    "\n",
    "# If you want to access from jupyter\n",
    "    conda install ipykernel   \n",
    "    \n",
    "# Some users my need this as well\n",
    "    conda install -c anaconda ipython_genutils\n",
    "    \n",
    "# You'll know if you need this because you get some errors about ipython_genutils not found\n",
    "    \n",
    "```\n",
    "Once you've completed the above try the following cell"
   ]
  },
  {
   "cell_type": "code",
   "execution_count": 2,
   "metadata": {},
   "outputs": [
    {
     "name": "stdout",
     "output_type": "stream",
     "text": [
      "1.10.0\n",
      "True\n",
      "0\n",
      "<torch.cuda.device object at 0x0000014388A9F648>\n",
      "1\n",
      "NVIDIA GeForce RTX 2070\n"
     ]
    }
   ],
   "source": [
    "import torch\n",
    "\n",
    "print(torch.__version__)\n",
    "print(torch.cuda.is_available())\n",
    "print(torch.cuda.current_device())\n",
    "print(torch.cuda.device(0))\n",
    "print(torch.cuda.device_count())\n",
    "print(torch.cuda.get_device_name(0))\n"
   ]
  },
  {
   "cell_type": "markdown",
   "metadata": {},
   "source": [
    "## Next steps\n",
    "\n",
    "We will be going through the tutorial found here  \n",
    "    https://pytorch.org/tutorials/beginner/basics/quickstart_tutorial.html\n",
    "    \n",
    "\n",
    "**Problems?**\n",
    "Google is your friend \n",
    "\n",
    "Do not go any further down without the above cell working!!"
   ]
  },
  {
   "cell_type": "code",
   "execution_count": 3,
   "metadata": {},
   "outputs": [],
   "source": [
    "import torch\n",
    "from torch import nn\n",
    "from torch.utils.data import DataLoader\n",
    "from torchvision import datasets\n",
    "from torchvision.transforms import ToTensor, Lambda, Compose\n",
    "import matplotlib.pyplot as plt"
   ]
  },
  {
   "cell_type": "code",
   "execution_count": 5,
   "metadata": {},
   "outputs": [],
   "source": [
    "# Download training data from open datasets.\n",
    "training_data = datasets.FashionMNIST(\n",
    "    root=\"data\",\n",
    "    train=True,\n",
    "    download=True,\n",
    "    transform=ToTensor(),\n",
    ")\n",
    "\n",
    "# Download test data from open datasets.\n",
    "test_data = datasets.FashionMNIST(\n",
    "    root=\"data\",\n",
    "    train=False,\n",
    "    download=True,\n",
    "    transform=ToTensor(),\n",
    ")"
   ]
  },
  {
   "cell_type": "code",
   "execution_count": 6,
   "metadata": {},
   "outputs": [
    {
     "name": "stdout",
     "output_type": "stream",
     "text": [
      "Shape of X [N, C, H, W]:  torch.Size([64, 1, 28, 28])\n",
      "Shape of y:  torch.Size([64]) torch.int64\n"
     ]
    }
   ],
   "source": [
    "batch_size = 64\n",
    "\n",
    "# Create data loaders.\n",
    "train_dataloader = DataLoader(training_data, batch_size=batch_size)\n",
    "test_dataloader = DataLoader(test_data, batch_size=batch_size)\n",
    "\n",
    "for X, y in test_dataloader:\n",
    "    print(\"Shape of X [N, C, H, W]: \", X.shape)\n",
    "    print(\"Shape of y: \", y.shape, y.dtype)\n",
    "    break"
   ]
  },
  {
   "cell_type": "code",
   "execution_count": 8,
   "metadata": {},
   "outputs": [
    {
     "name": "stdout",
     "output_type": "stream",
     "text": [
      "Using cuda device\n",
      "NeuralNetwork(\n",
      "  (flatten): Flatten(start_dim=1, end_dim=-1)\n",
      "  (linear_relu_stack): Sequential(\n",
      "    (0): Linear(in_features=784, out_features=512, bias=True)\n",
      "    (1): ReLU()\n",
      "    (2): Linear(in_features=512, out_features=512, bias=True)\n",
      "    (3): ReLU()\n",
      "    (4): Linear(in_features=512, out_features=10, bias=True)\n",
      "  )\n",
      ")\n"
     ]
    }
   ],
   "source": [
    "# Get cpu or gpu device for training.\n",
    "device = \"cuda\" if torch.cuda.is_available() else \"cpu\"\n",
    "print(f\"Using {device} device\")\n",
    "\n",
    "# Define model\n",
    "class NeuralNetwork(nn.Module):\n",
    "    def __init__(self):\n",
    "        super(NeuralNetwork, self).__init__()\n",
    "        self.flatten = nn.Flatten()\n",
    "        self.linear_relu_stack = nn.Sequential(\n",
    "            nn.Linear(28*28, 512),\n",
    "            nn.ReLU(),\n",
    "            nn.Linear(512, 512),\n",
    "            nn.ReLU(),\n",
    "            nn.Linear(512, 10)\n",
    "        )\n",
    "\n",
    "    def forward(self, x):\n",
    "        x = self.flatten(x)\n",
    "        logits = self.linear_relu_stack(x)\n",
    "        return logits\n",
    "\n",
    "model = NeuralNetwork().to(device)\n",
    "print(model)"
   ]
  },
  {
   "cell_type": "markdown",
   "metadata": {},
   "source": [
    "## Model Parametrization"
   ]
  },
  {
   "cell_type": "code",
   "execution_count": 10,
   "metadata": {},
   "outputs": [],
   "source": [
    "loss_fn = nn.CrossEntropyLoss()\n",
    "optimizer = torch.optim.SGD(model.parameters(), lr=1e-3)\n",
    "\n",
    "# In a single training loop, the model makes predictions \n",
    "#    on the training dataset (fed to it in batches), and \n",
    "#    backpropagates the prediction error to adjust the model’s parameters.\n",
    "\n",
    "def train(dataloader, model, loss_fn, optimizer):\n",
    "    size = len(dataloader.dataset)\n",
    "    model.train()\n",
    "    for batch, (X, y) in enumerate(dataloader):\n",
    "        X, y = X.to(device), y.to(device)\n",
    "\n",
    "        # Compute prediction error\n",
    "        pred = model(X)\n",
    "        loss = loss_fn(pred, y)\n",
    "\n",
    "        # Backpropagation\n",
    "        optimizer.zero_grad()\n",
    "        loss.backward()\n",
    "        optimizer.step()\n",
    "\n",
    "        if batch % 100 == 0:\n",
    "            loss, current = loss.item(), batch * len(X)\n",
    "            print(f\"loss: {loss:>7f}  [{current:>5d}/{size:>5d}]\")"
   ]
  },
  {
   "cell_type": "code",
   "execution_count": 11,
   "metadata": {},
   "outputs": [],
   "source": [
    "def test(dataloader, model, loss_fn):\n",
    "    size = len(dataloader.dataset)\n",
    "    num_batches = len(dataloader)\n",
    "    model.eval()\n",
    "    test_loss, correct = 0, 0\n",
    "    with torch.no_grad():\n",
    "        for X, y in dataloader:\n",
    "            X, y = X.to(device), y.to(device)\n",
    "            pred = model(X)\n",
    "            test_loss += loss_fn(pred, y).item()\n",
    "            correct += (pred.argmax(1) == y).type(torch.float).sum().item()\n",
    "    test_loss /= num_batches\n",
    "    correct /= size\n",
    "    print(f\"Test Error: \\n Accuracy: {(100*correct):>0.1f}%, Avg loss: {test_loss:>8f} \\n\")"
   ]
  },
  {
   "cell_type": "code",
   "execution_count": 12,
   "metadata": {
    "scrolled": true
   },
   "outputs": [
    {
     "name": "stdout",
     "output_type": "stream",
     "text": [
      "Epoch 1\n",
      "-------------------------------\n",
      "loss: 2.291656  [    0/60000]\n",
      "loss: 2.282990  [ 6400/60000]\n",
      "loss: 2.262465  [12800/60000]\n",
      "loss: 2.266156  [19200/60000]\n",
      "loss: 2.243651  [25600/60000]\n",
      "loss: 2.216843  [32000/60000]\n",
      "loss: 2.227804  [38400/60000]\n",
      "loss: 2.190175  [44800/60000]\n",
      "loss: 2.187059  [51200/60000]\n",
      "loss: 2.165934  [57600/60000]\n",
      "Test Error: \n",
      " Accuracy: 45.8%, Avg loss: 2.154778 \n",
      "\n",
      "Epoch 2\n",
      "-------------------------------\n",
      "loss: 2.162262  [    0/60000]\n",
      "loss: 2.150027  [ 6400/60000]\n",
      "loss: 2.091354  [12800/60000]\n",
      "loss: 2.116227  [19200/60000]\n",
      "loss: 2.065780  [25600/60000]\n",
      "loss: 2.012895  [32000/60000]\n",
      "loss: 2.037944  [38400/60000]\n",
      "loss: 1.956496  [44800/60000]\n",
      "loss: 1.960935  [51200/60000]\n",
      "loss: 1.903061  [57600/60000]\n",
      "Test Error: \n",
      " Accuracy: 55.5%, Avg loss: 1.888778 \n",
      "\n",
      "Epoch 3\n",
      "-------------------------------\n",
      "loss: 1.918312  [    0/60000]\n",
      "loss: 1.880994  [ 6400/60000]\n",
      "loss: 1.762298  [12800/60000]\n",
      "loss: 1.817038  [19200/60000]\n",
      "loss: 1.711533  [25600/60000]\n",
      "loss: 1.667223  [32000/60000]\n",
      "loss: 1.687722  [38400/60000]\n",
      "loss: 1.586370  [44800/60000]\n",
      "loss: 1.611250  [51200/60000]\n",
      "loss: 1.518499  [57600/60000]\n",
      "Test Error: \n",
      " Accuracy: 61.5%, Avg loss: 1.525654 \n",
      "\n",
      "Epoch 4\n",
      "-------------------------------\n",
      "loss: 1.586112  [    0/60000]\n",
      "loss: 1.546217  [ 6400/60000]\n",
      "loss: 1.400708  [12800/60000]\n",
      "loss: 1.485306  [19200/60000]\n",
      "loss: 1.369890  [25600/60000]\n",
      "loss: 1.364986  [32000/60000]\n",
      "loss: 1.374034  [38400/60000]\n",
      "loss: 1.299799  [44800/60000]\n",
      "loss: 1.335292  [51200/60000]\n",
      "loss: 1.240652  [57600/60000]\n",
      "Test Error: \n",
      " Accuracy: 64.0%, Avg loss: 1.261619 \n",
      "\n",
      "Epoch 5\n",
      "-------------------------------\n",
      "loss: 1.332568  [    0/60000]\n",
      "loss: 1.307811  [ 6400/60000]\n",
      "loss: 1.150870  [12800/60000]\n",
      "loss: 1.263720  [19200/60000]\n",
      "loss: 1.141420  [25600/60000]\n",
      "loss: 1.165207  [32000/60000]\n",
      "loss: 1.176530  [38400/60000]\n",
      "loss: 1.116963  [44800/60000]\n",
      "loss: 1.159335  [51200/60000]\n",
      "loss: 1.076499  [57600/60000]\n",
      "Test Error: \n",
      " Accuracy: 65.2%, Avg loss: 1.094110 \n",
      "\n",
      "Done!\n"
     ]
    }
   ],
   "source": [
    "epochs = 5\n",
    "for t in range(epochs):\n",
    "    print(f\"Epoch {t+1}\\n-------------------------------\")\n",
    "    train(train_dataloader, model, loss_fn, optimizer)\n",
    "    test(test_dataloader, model, loss_fn)\n",
    "print(\"Done!\")"
   ]
  },
  {
   "cell_type": "markdown",
   "metadata": {},
   "source": [
    "## Saving a Model"
   ]
  },
  {
   "cell_type": "code",
   "execution_count": 13,
   "metadata": {},
   "outputs": [
    {
     "name": "stdout",
     "output_type": "stream",
     "text": [
      "Saved PyTorch Model State to model.pth\n"
     ]
    }
   ],
   "source": [
    "torch.save(model.state_dict(), \"model.pth\")\n",
    "print(\"Saved PyTorch Model State to model.pth\")"
   ]
  },
  {
   "cell_type": "markdown",
   "metadata": {},
   "source": [
    "## Reload a saved model"
   ]
  },
  {
   "cell_type": "code",
   "execution_count": 14,
   "metadata": {},
   "outputs": [
    {
     "data": {
      "text/plain": [
       "<All keys matched successfully>"
      ]
     },
     "execution_count": 14,
     "metadata": {},
     "output_type": "execute_result"
    }
   ],
   "source": [
    "model = NeuralNetwork()\n",
    "model.load_state_dict(torch.load(\"model.pth\"))"
   ]
  },
  {
   "cell_type": "markdown",
   "metadata": {},
   "source": [
    "## Rerun a saved model"
   ]
  },
  {
   "cell_type": "code",
   "execution_count": 15,
   "metadata": {},
   "outputs": [
    {
     "name": "stdout",
     "output_type": "stream",
     "text": [
      "Predicted: \"Ankle boot\", Actual: \"Ankle boot\"\n"
     ]
    }
   ],
   "source": [
    "classes = [\n",
    "    \"T-shirt/top\",\n",
    "    \"Trouser\",\n",
    "    \"Pullover\",\n",
    "    \"Dress\",\n",
    "    \"Coat\",\n",
    "    \"Sandal\",\n",
    "    \"Shirt\",\n",
    "    \"Sneaker\",\n",
    "    \"Bag\",\n",
    "    \"Ankle boot\",\n",
    "]\n",
    "\n",
    "model.eval()\n",
    "x, y = test_data[0][0], test_data[0][1]\n",
    "with torch.no_grad():\n",
    "    pred = model(x)\n",
    "    predicted, actual = classes[pred[0].argmax(0)], classes[y]\n",
    "    print(f'Predicted: \"{predicted}\", Actual: \"{actual}\"')"
   ]
  }
 ],
 "metadata": {
  "hide_input": false,
  "kernelspec": {
   "display_name": "Python [conda env:CS7643]",
   "language": "python",
   "name": "conda-env-CS7643-py"
  },
  "language_info": {
   "codemirror_mode": {
    "name": "ipython",
    "version": 3
   },
   "file_extension": ".py",
   "mimetype": "text/x-python",
   "name": "python",
   "nbconvert_exporter": "python",
   "pygments_lexer": "ipython3",
   "version": "3.9.7"
  },
  "toc": {
   "base_numbering": 1,
   "nav_menu": {},
   "number_sections": false,
   "sideBar": true,
   "skip_h1_title": true,
   "title_cell": "Table of Contents",
   "title_sidebar": "Contents",
   "toc_cell": false,
   "toc_position": {},
   "toc_section_display": true,
   "toc_window_display": true
  }
 },
 "nbformat": 4,
 "nbformat_minor": 2
}
